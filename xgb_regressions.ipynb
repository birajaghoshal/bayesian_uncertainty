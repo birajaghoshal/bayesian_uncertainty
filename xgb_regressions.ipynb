{
 "cells": [
  {
   "cell_type": "code",
   "execution_count": 1,
   "metadata": {},
   "outputs": [],
   "source": [
    "import time\n",
    "import datetime\n",
    "from collections import OrderedDict\n",
    "import pandas as pd\n",
    "import numpy as np\n",
    "import scipy\n",
    "from xgboost import XGBRegressor\n",
    "import sklearn\n",
    "from sklearn.model_selection import ShuffleSplit, KFold, RepeatedKFold, cross_val_score\n",
    "from sklearn.metrics import mean_squared_error, make_scorer\n",
    "from sklearn.datasets import load_boston\n",
    "from sklearn.base import BaseEstimator, RegressorMixin"
   ]
  },
  {
   "cell_type": "code",
   "execution_count": 2,
   "metadata": {},
   "outputs": [],
   "source": [
    "datasets = OrderedDict()\n",
    "results = OrderedDict()"
   ]
  },
  {
   "cell_type": "code",
   "execution_count": 3,
   "metadata": {},
   "outputs": [],
   "source": [
    "datasets['boston'] = (load_boston()['data'], load_boston()['target'])"
   ]
  },
  {
   "cell_type": "code",
   "execution_count": 4,
   "metadata": {},
   "outputs": [],
   "source": [
    "df = pd.read_csv('datasets/concrete_data.csv')\n",
    "datasets['concrete'] =  (df.iloc[:, :-1], df.iloc[:, -1])"
   ]
  },
  {
   "cell_type": "code",
   "execution_count": 5,
   "metadata": {},
   "outputs": [],
   "source": [
    "df = pd.read_csv('datasets/energy_efficiency.csv')\n",
    "datasets['energy'] =  (df.iloc[:, :-2], df.iloc[:, -2])"
   ]
  },
  {
   "cell_type": "code",
   "execution_count": 6,
   "metadata": {},
   "outputs": [],
   "source": [
    "df = pd.read_csv('datasets/kin8nm.csv')\n",
    "datasets['kin8nm'] =  (df.iloc[:, :-1], df.iloc[:, -1])"
   ]
  },
  {
   "cell_type": "code",
   "execution_count": 7,
   "metadata": {},
   "outputs": [],
   "source": [
    "df = pd.read_table('datasets/naval.txt', sep='\\s+', header=None)\n",
    "datasets['naval'] =  (df.iloc[:, :-2], df.iloc[:, -2])"
   ]
  },
  {
   "cell_type": "code",
   "execution_count": 8,
   "metadata": {},
   "outputs": [],
   "source": [
    "df = pd.read_csv('datasets/power.csv')\n",
    "datasets['power'] =  (df.iloc[:, :-1], df.iloc[:, -1])"
   ]
  },
  {
   "cell_type": "code",
   "execution_count": 9,
   "metadata": {},
   "outputs": [],
   "source": [
    "df = pd.read_csv('datasets/protein.csv')\n",
    "datasets['protein'] =  (df.iloc[:, 1:], df.iloc[:, 0])"
   ]
  },
  {
   "cell_type": "code",
   "execution_count": 10,
   "metadata": {},
   "outputs": [],
   "source": [
    "df = pd.read_csv('datasets/wine.csv', sep=';')\n",
    "datasets['wine'] =  (df.iloc[:, :-1], df.iloc[:, -1])"
   ]
  },
  {
   "cell_type": "code",
   "execution_count": 11,
   "metadata": {},
   "outputs": [],
   "source": [
    "df = pd.read_table('datasets/yacht.txt', sep='\\s+', header=None)\n",
    "datasets['yacht'] =  (df.iloc[:, :-1], df.iloc[:, -1])"
   ]
  },
  {
   "cell_type": "code",
   "execution_count": 12,
   "metadata": {},
   "outputs": [],
   "source": [
    "df = pd.read_table('datasets/year.txt', sep=',', header=None)\n",
    "datasets['year'] =  (df.iloc[:, 1:], df.iloc[:, 0])"
   ]
  },
  {
   "cell_type": "code",
   "execution_count": 13,
   "metadata": {},
   "outputs": [],
   "source": [
    "def ll(y, y_pred):\n",
    "    mean, log_var = y_pred\n",
    "    return scipy.stats.norm.logpdf(y, loc = mean, scale = np.exp(log_var/2)).mean()\n",
    "\n",
    "ll_scorer = make_scorer(ll)"
   ]
  },
  {
   "cell_type": "code",
   "execution_count": null,
   "metadata": {},
   "outputs": [],
   "source": [
    "def ll_objective(y_true, y_pred):\n",
    "    err = y_true\n",
    "    log_var = y_pred\n",
    "    grad = 1/(2*np.exp(log_var)) - 1/(2*np.exp(2*log_var))*(err**2)\n",
    "    hess = -1/(2*np.exp(2*log_var)) + 2/(2*np.exp(3*log_var))*(err**2)\n",
    "    return grad, hess\n",
    "\n",
    "class XGBLogLikelihood(BaseEstimator, RegressorMixin):  \n",
    "    \n",
    "    def __init__(self, n_estimators=100):\n",
    "        self.n_estimators = n_estimators\n",
    "\n",
    "    def fit(self, X, y):\n",
    "        self.xgb_mean = XGBRegressor(n_estimators=self.n_estimators)\n",
    "        self.xgb_var = XGBRegressor(n_estimators=self.n_estimators, objective=ll_objective)\n",
    "        self.xgb_mean.fit(X, y)\n",
    "        mean = self.xgb_mean.predict(X)\n",
    "        self.xgb_var.fit(X, y-mean)\n",
    "        return self\n",
    "\n",
    "    def predict(self, X, y=None):\n",
    "        pred_mean = self.xgb_mean.predict(X)\n",
    "        pred_var = self.xgb_var.predict(X)\n",
    "        return pred_mean, pred_var"
   ]
  },
  {
   "cell_type": "code",
   "execution_count": null,
   "metadata": {},
   "outputs": [
    {
     "name": "stdout",
     "output_type": "stream",
     "text": [
      "2018-02-01 14:39:37.089934 boston 506 13 2.914846666181382 0.10458028706401429 -4.83869219344313 0.40332427532355103\n",
      "2018-02-01 14:39:48.647246 concrete 1030 8 4.30891380114884 0.08532772668959696 -2.89459374503507 0.019764341387791703\n",
      "2018-02-01 14:39:55.843361 energy 768 8 0.39438253219839836 0.00914544407567054 -1.2693399524903182 0.007587203896492379\n",
      "2018-02-01 14:41:33.970550 kin8nm 8192 8 0.1633382681779371 0.0008638650162281974 -1.1769896145849943 7.333850022723467e-05\n",
      "2018-02-01 14:44:17.551006 naval 11934 16 0.0018171791996022869 9.349778378912723e-06 -1.1689395560100184 1.126933218620689e-08\n",
      "2018-02-01 14:45:19.749663 power 9568 4 3.552468877201535 0.036498881521130455 -3.0497946011488706 0.02160275544761731\n"
     ]
    }
   ],
   "source": [
    "for d, (X,y) in datasets.items():\n",
    "    reg = XGBRegressor(n_estimators=300)\n",
    "    if d == 'year':\n",
    "        cv = ShuffleSplit(3, test_size=0.1)\n",
    "    elif d == 'protein':\n",
    "        cv = KFold(n_splits=10)\n",
    "    else:\n",
    "        cv = RepeatedKFold(n_splits=10, n_repeats=4)\n",
    "\n",
    "    rmse = np.sqrt(cross_val_score(reg, X, y, cv=cv, scoring=make_scorer(mean_squared_error)))\n",
    "\n",
    "    ll = cross_val_score(XGBLogLikelihood(n_estimators=300), X, y, cv=cv, scoring=ll_scorer)\n",
    "    \n",
    "    results[d] = (datetime.datetime.now(), d, X.shape[0], X.shape[1],\n",
    "                  rmse.mean(), scipy.stats.sem(rmse), ll.mean(), scipy.stats.sem(ll))\n",
    "    \n",
    "    print(*results[d])"
   ]
  },
  {
   "cell_type": "code",
   "execution_count": 17,
   "metadata": {},
   "outputs": [
    {
     "name": "stdout",
     "output_type": "stream",
     "text": [
      "boston rmse  & 2.91 \\tpm 0.10\n",
      "boston ll  & -4.84 \\tpm 0.40\n",
      "concrete rmse  & 4.31 \\tpm 0.09\n",
      "concrete ll  & -2.89 \\tpm 0.02\n",
      "energy rmse  & 0.39 \\tpm 0.01\n",
      "energy ll  & -1.27 \\tpm 0.01\n",
      "kin8nm rmse  & 0.16 \\tpm 0.00\n",
      "kin8nm ll  & -1.18 \\tpm 0.00\n",
      "naval rmse  & 0.00 \\tpm 0.00\n",
      "naval ll  & -1.17 \\tpm 0.00\n",
      "power rmse  & 3.55 \\tpm 0.04\n",
      "power ll  & -3.05 \\tpm 0.02\n",
      "protein rmse  & 4.37 \\tpm 0.02\n",
      "protein ll  & -3.15 \\tpm 0.00\n",
      "wine rmse  & 0.61 \\tpm 0.01\n",
      "wine ll  & -1.11 \\tpm 0.00\n",
      "yacht rmse  & 0.53 \\tpm 0.03\n",
      "yacht ll  & -1.29 \\tpm 0.01\n",
      "year rmse  & 9.09 \\tpm 0.07\n",
      "year ll  & -4.68 \\tpm 0.00\n"
     ]
    }
   ],
   "source": [
    "for i, j in results.items():\n",
    "    res = ['{:.2f}'.format(x) for x in j[-4:]]\n",
    "    print(i, 'rmse', ' & ' + ' \\\\tpm '.join(res[0:2]))\n",
    "    print(i, 'll', ' & ' + ' \\\\tpm '.join(res[2:]))"
   ]
  },
  {
   "cell_type": "code",
   "execution_count": null,
   "metadata": {},
   "outputs": [],
   "source": []
  }
 ],
 "metadata": {
  "kernelspec": {
   "display_name": "Python 3",
   "language": "python",
   "name": "python3"
  },
  "language_info": {
   "codemirror_mode": {
    "name": "ipython",
    "version": 3
   },
   "file_extension": ".py",
   "mimetype": "text/x-python",
   "name": "python",
   "nbconvert_exporter": "python",
   "pygments_lexer": "ipython3",
   "version": "3.5.2"
  }
 },
 "nbformat": 4,
 "nbformat_minor": 2
}
