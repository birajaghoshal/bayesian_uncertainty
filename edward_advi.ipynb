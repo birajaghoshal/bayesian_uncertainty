{
 "cells": [
  {
   "cell_type": "code",
   "execution_count": 1,
   "metadata": {},
   "outputs": [],
   "source": [
    "%matplotlib inline\n",
    "import matplotlib.pyplot as plt\n",
    "import numpy as np\n",
    "import seaborn as sns\n",
    "from tqdm import tqdm\n",
    "from sklearn.metrics import roc_auc_score\n",
    "\n",
    "import edward as ed\n",
    "ed.set_seed(42)\n",
    "\n",
    "import tensorflow as tf\n",
    "from tensorflow.examples.tutorials.mnist import input_data\n",
    "\n",
    "from edward.models import Normal, Categorical"
   ]
  },
  {
   "cell_type": "code",
   "execution_count": 2,
   "metadata": {},
   "outputs": [
    {
     "name": "stdout",
     "output_type": "stream",
     "text": [
      "Extracting MNIST_data/train-images-idx3-ubyte.gz\n",
      "Extracting MNIST_data/train-labels-idx1-ubyte.gz\n",
      "Extracting MNIST_data/t10k-images-idx3-ubyte.gz\n",
      "Extracting MNIST_data/t10k-labels-idx1-ubyte.gz\n"
     ]
    }
   ],
   "source": [
    "mnist = input_data.read_data_sets(\"MNIST_data/\", one_hot=True)"
   ]
  },
  {
   "cell_type": "code",
   "execution_count": 3,
   "metadata": {},
   "outputs": [],
   "source": [
    "N = 100   # number of images in a minibatch.\n",
    "D = 784   # number of features.\n",
    "K = 10    # number of classes.\n",
    "neurons = 100\n",
    "layers = 2\n",
    "epochs = 10\n",
    "n_samples = 100\n",
    "eval_batch_size = 1000\n",
    "\n",
    "iters = int(mnist.train.num_examples/N*epochs)"
   ]
  },
  {
   "cell_type": "code",
   "execution_count": 4,
   "metadata": {},
   "outputs": [],
   "source": [
    "X_val = mnist.validation.images\n",
    "Y_val = np.argmax(mnist.validation.labels,axis=1)"
   ]
  },
  {
   "cell_type": "code",
   "execution_count": 5,
   "metadata": {},
   "outputs": [],
   "source": [
    "def neural_network(X):\n",
    "    h = tf.nn.relu(tf.matmul(X, W_0) + b_0)\n",
    "    if layers == 2:\n",
    "        h = tf.nn.relu(tf.matmul(h, W_1) + b_1)\n",
    "    h = tf.matmul(h, W_2) + b_2\n",
    "    return h\n",
    "\n",
    "# MODEL\n",
    "with tf.name_scope(\"model\"):\n",
    "    W_0 = Normal(loc=tf.zeros([D, neurons]), scale=tf.ones([D, neurons]), name=\"W_0\")\n",
    "    b_0 = Normal(loc=tf.zeros(neurons), scale=tf.ones(neurons), name=\"b_0\")\n",
    "    \n",
    "    if layers == 2:\n",
    "        W_1 = Normal(loc=tf.zeros([neurons, neurons]), scale=tf.ones([neurons, neurons]), name=\"W_1\")\n",
    "        b_1 = Normal(loc=tf.zeros(neurons), scale=tf.ones(neurons), name=\"b_1\")\n",
    "    \n",
    "    W_2 = Normal(loc=tf.zeros([neurons, K]), scale=tf.ones([neurons, K]), name=\"W_2\")\n",
    "    b_2 = Normal(loc=tf.zeros(K), scale=tf.ones(K), name=\"b_2\")\n",
    "\n",
    "    X = tf.placeholder(tf.float32, [None, D], name=\"X\")\n",
    "    y = Categorical(neural_network(X), name=\"y\")\n",
    "    \n",
    "# INFERENCE\n",
    "with tf.name_scope(\"posterior\"):\n",
    "    with tf.name_scope(\"qW_0\"):\n",
    "        qW_0 = Normal(loc=tf.Variable(tf.random_normal([D, neurons]), name=\"loc\"),\n",
    "                      scale=tf.nn.softplus(\n",
    "                          tf.Variable(tf.random_normal([D, neurons]), name=\"scale\")))\n",
    "    with tf.name_scope(\"qb_0\"):\n",
    "        qb_0 = Normal(loc=tf.Variable(tf.random_normal([neurons]), name=\"loc\"),\n",
    "                      scale=tf.nn.softplus(\n",
    "                          tf.Variable(tf.random_normal([neurons]), name=\"scale\")))\n",
    "    \n",
    "    if layers == 2:\n",
    "        with tf.name_scope(\"qW_1\"):\n",
    "            qW_1 = Normal(loc=tf.Variable(tf.random_normal([neurons, neurons]), name=\"loc\"),\n",
    "                          scale=tf.nn.softplus(\n",
    "                              tf.Variable(tf.random_normal([neurons, neurons]), name=\"scale\")))        \n",
    "        with tf.name_scope(\"qb_1\"):\n",
    "            qb_1 = Normal(loc=tf.Variable(tf.random_normal([neurons]), name=\"loc\"),\n",
    "                          scale=tf.nn.softplus(\n",
    "                              tf.Variable(tf.random_normal([neurons]), name=\"scale\")))\n",
    "        \n",
    "    with tf.name_scope(\"qW_2\"):\n",
    "        qW_2 = Normal(loc=tf.Variable(tf.random_normal([neurons, K]), name=\"loc\"),\n",
    "                      scale=tf.nn.softplus(\n",
    "                          tf.Variable(tf.random_normal([neurons, K]), name=\"scale\")))\n",
    "    with tf.name_scope(\"qb_2\"):\n",
    "        qb_2 = Normal(loc=tf.Variable(tf.random_normal([K]), name=\"loc\"),\n",
    "                      scale=tf.nn.softplus(\n",
    "                          tf.Variable(tf.random_normal([K]), name=\"scale\")))"
   ]
  },
  {
   "cell_type": "code",
   "execution_count": 7,
   "metadata": {},
   "outputs": [],
   "source": [
    "def eval_acc_auc(dataset):\n",
    "    prob_lst = []\n",
    "    pred_lst = []\n",
    "    Y = []\n",
    "\n",
    "    for _ in tqdm(range(dataset.num_examples//eval_batch_size)):\n",
    "        X, y = mnist.test.next_batch(eval_batch_size, shuffle=False)\n",
    "        prob_lst_temp = []\n",
    "        for _ in range(n_samples):\n",
    "            W0_samp = qW_0.sample()\n",
    "            b0_samp = qb_0.sample()\n",
    "            if layers == 2:\n",
    "                W1_samp = qW_1.sample()\n",
    "                b1_samp = qb_1.sample()\n",
    "            W2_samp = qW_2.sample()\n",
    "            b2_samp = qb_2.sample()\n",
    "\n",
    "            h_samp = tf.nn.relu(tf.matmul(X, W0_samp) + b0_samp)\n",
    "            if layers == 2:\n",
    "                h_samp = tf.nn.relu(tf.matmul(h_samp, W1_samp) + b1_samp)\n",
    "            h_samp = tf.matmul(h_samp, W2_samp) + b2_samp\n",
    "            prob = tf.nn.softmax(h_samp)\n",
    "\n",
    "            # Also compue the probabiliy of each class for each (w,b) sample.\n",
    "            prob_lst_temp.append(prob.eval())\n",
    "        pred_lst.append(np.argmax(np.mean(prob_lst_temp,axis=0),axis=1))\n",
    "        prob_lst.append(np.max(np.mean(prob_lst_temp,axis=0),axis=1))\n",
    "        Y.append(y)\n",
    "\n",
    "    Y_pred = np.concatenate(pred_lst)\n",
    "    Y_prob = np.concatenate(prob_lst)\n",
    "    Y_actual = np.argmax(np.concatenate(Y), axis=1)\n",
    "\n",
    "    acc = (Y_pred == Y_actual).mean()*100\n",
    "\n",
    "    auc = roc_auc_score(Y_pred == Y_actual, Y_prob)\n",
    "\n",
    "    return acc, auc"
   ]
  },
  {
   "cell_type": "code",
   "execution_count": 8,
   "metadata": {},
   "outputs": [
    {
     "name": "stdout",
     "output_type": "stream",
     "text": [
      "5500/5500 [100%] ██████████████████████████████ Elapsed: 29s | Loss: 171535.891\n"
     ]
    }
   ],
   "source": [
    "y_ph = tf.placeholder(tf.int32, [N])\n",
    "\n",
    "if layers == 1:\n",
    "    inference = ed.KLqp({W_0: qW_0, b_0: qb_0,\n",
    "                         W_2: qW_2, b_2: qb_2}, data={y: y_ph})\n",
    "elif layers == 2:\n",
    "    inference = ed.KLqp({W_0: qW_0, b_0: qb_0,\n",
    "                         W_1: qW_1, b_1: qb_1,\n",
    "                         W_2: qW_2, b_2: qb_2}, data={y: y_ph})\n",
    "    \n",
    "inference.initialize(n_iter=iters, n_print=100, scale={y: float(mnist.train.num_examples) / N})\n",
    "\n",
    "sess = tf.InteractiveSession()\n",
    "\n",
    "tf.global_variables_initializer().run()\n",
    "\n",
    "for i in range(1, inference.n_iter+1):\n",
    "    X_batch, Y_batch = mnist.train.next_batch(N)\n",
    "    Y_batch = np.argmax(Y_batch,axis=1)\n",
    "    info_dict = inference.update(feed_dict={X: X_batch, y_ph: Y_batch})\n",
    "    inference.print_progress(info_dict)\n",
    "    #if i*N % mnist.train.num_examples == 0: # epoch\n",
    "    #    print('  Val acc:', eval_acc(X_val, Y_val))"
   ]
  },
  {
   "cell_type": "code",
   "execution_count": 9,
   "metadata": {},
   "outputs": [
    {
     "name": "stderr",
     "output_type": "stream",
     "text": [
      "100%|██████████| 10/10 [16:47<00:00, 100.71s/it]"
     ]
    },
    {
     "name": "stdout",
     "output_type": "stream",
     "text": [
      "accuracy in predicting the test data =  (27.629999999999999, 0.81395804455438725)\n"
     ]
    },
    {
     "name": "stderr",
     "output_type": "stream",
     "text": [
      "\n"
     ]
    }
   ],
   "source": [
    "X_test = mnist.test.images\n",
    "Y_test = np.argmax(mnist.test.labels,axis=1)\n",
    "print('ADVI', neurons, layers, epochs, n_samples, eval_acc_auc(mnist.test))"
   ]
  },
  {
   "cell_type": "code",
   "execution_count": null,
   "metadata": {},
   "outputs": [],
   "source": []
  }
 ],
 "metadata": {
  "kernelspec": {
   "display_name": "Python 3",
   "language": "python",
   "name": "python3"
  },
  "language_info": {
   "codemirror_mode": {
    "name": "ipython",
    "version": 3
   },
   "file_extension": ".py",
   "mimetype": "text/x-python",
   "name": "python",
   "nbconvert_exporter": "python",
   "pygments_lexer": "ipython3",
   "version": "3.5.2"
  }
 },
 "nbformat": 4,
 "nbformat_minor": 2
}
