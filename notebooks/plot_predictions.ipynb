{
 "cells": [
  {
   "cell_type": "code",
   "execution_count": 91,
   "metadata": {},
   "outputs": [
    {
     "data": {
      "text/html": [
       "\n",
       "    <div class=\"bk-root\">\n",
       "        <a href=\"https://bokeh.pydata.org\" target=\"_blank\" class=\"bk-logo bk-logo-small bk-logo-notebook\"></a>\n",
       "        <span id=\"8f4f5fce-355b-499e-a137-c01cfb3d9b3e\">Loading BokehJS ...</span>\n",
       "    </div>"
      ]
     },
     "metadata": {},
     "output_type": "execute_result"
    },
    {
     "data": {},
     "metadata": {},
     "output_type": "display_data"
    }
   ],
   "source": [
    "from joblib import Parallel, delayed\n",
    "import numpy as np\n",
    "import scipy\n",
    "import pickle\n",
    "import json\n",
    "from itertools import product\n",
    "\n",
    "from datasets import make_datasets\n",
    "from metrics import Results, normal_nll, rmse, mae, auc_rmse, auc_mae\n",
    "from shallow_models import LinearRegression, BayesianLinearRegression, RFBaseline, RFUncertainty, GBTQuantile, XGBaseline, XGBLogLikelihood\n",
    "\n",
    "\n",
    "import numpy as np\n",
    "from scipy import stats, optimize\n",
    "from collections import namedtuple\n",
    "\n",
    "from sklearn.model_selection import cross_validate, ShuffleSplit, KFold, RepeatedKFold\n",
    "from sklearn.metrics import make_scorer\n",
    "from sklearn.preprocessing import StandardScaler\n",
    "from datetime import datetime\n",
    "\n",
    "from bokeh.io import output_notebook, show\n",
    "from bokeh.plotting import Figure\n",
    "from bokeh.palettes import Set3, Paired\n",
    "from bokeh.models import Span\n",
    "\n",
    "output_notebook()"
   ]
  },
  {
   "cell_type": "code",
   "execution_count": 84,
   "metadata": {},
   "outputs": [],
   "source": [
    "model = XGBLogLikelihood()"
   ]
  },
  {
   "cell_type": "code",
   "execution_count": 85,
   "metadata": {},
   "outputs": [],
   "source": [
    "datasets = make_datasets(year=False)"
   ]
  },
  {
   "cell_type": "code",
   "execution_count": 86,
   "metadata": {},
   "outputs": [],
   "source": [
    "def normal_nll_opt(actual, pred, std):\n",
    "    error = np.array(actual) - np.array(pred)\n",
    "    std[std <= 1e-30] = 1e-30\n",
    "    func = lambda x: -stats.norm.logpdf(error, loc=x[0], scale=x[1]*std).mean()\n",
    "    x, f, d = optimize.fmin_l_bfgs_b(func, np.array([0.0, 1.0]), bounds=[(None, None), (0, None)], approx_grad=True)\n",
    "    return f\n",
    "\n",
    "\n",
    "def auc_rmse_norm(actual, pred, std):\n",
    "    base_rmse = rmse(actual, pred)\n",
    "    error = np.array(actual) - np.array(pred)\n",
    "    rmses = []\n",
    "    data = sorted(zip(std, error), reverse=True)\n",
    "    for i in range(len(data)):\n",
    "        _, err = zip(*data[i:])\n",
    "        rmses.append(np.sqrt((np.array(err)**2).mean())/base_rmse)\n",
    "    return np.trapz(y=rmses, x=np.arange(len(data))/(len(data)-1))\n",
    "\n",
    "\n",
    "def eval_dataset_model(d, X, y, model):    \n",
    "    reg = model()\n",
    "    scaler_X = StandardScaler()\n",
    "    scaler_y = StandardScaler()\n",
    "    \n",
    "    scaler_X = scaler_X.fit(X)\n",
    "    X_train = scaler_X.transform(X)\n",
    "    \n",
    "    scaler_y = scaler_y.fit(y.reshape(-1, 1))\n",
    "    y_train = np.ravel(scaler_y.transform(y.reshape(-1, 1)))\n",
    "    reg.fit(X_train, y_train)\n",
    "    \n",
    "    return reg, scaler_X, scaler_y"
   ]
  },
  {
   "cell_type": "code",
   "execution_count": 87,
   "metadata": {},
   "outputs": [],
   "source": []
  },
  {
   "cell_type": "code",
   "execution_count": 92,
   "metadata": {},
   "outputs": [
    {
     "data": {
      "text/plain": [
       "11.9"
      ]
     },
     "execution_count": 92,
     "metadata": {},
     "output_type": "execute_result"
    }
   ],
   "source": [
    "y[-1]"
   ]
  },
  {
   "cell_type": "code",
   "execution_count": 98,
   "metadata": {},
   "outputs": [
    {
     "data": {
      "text/plain": [
       "odict_keys(['boston', 'concrete', 'energy', 'kin8nm', 'naval', 'power', 'protein', 'wine', 'yacht', 'make_regression', 'make_friedman1', 'make_friedman2', 'make_friedman3'])"
      ]
     },
     "execution_count": 98,
     "metadata": {},
     "output_type": "execute_result"
    }
   ],
   "source": [
    "datasets.keys()"
   ]
  },
  {
   "cell_type": "code",
   "execution_count": 109,
   "metadata": {},
   "outputs": [
    {
     "data": {
      "text/html": [
       "\n",
       "<div class=\"bk-root\">\n",
       "    <div class=\"bk-plotdiv\" id=\"65b0a575-ab09-43fd-b463-b64ded32af37\"></div>\n",
       "</div>"
      ]
     },
     "metadata": {},
     "output_type": "execute_result"
    },
    {
     "data": {},
     "metadata": {
      "application/vnd.bokehjs_exec.v0+json": {
       "id": "21681b34-e487-4ef1-94f7-668365d976d4"
      }
     },
     "output_type": "display_data"
    }
   ],
   "source": [
    "ds = 'kin8nm'\n",
    "x, y = datasets[ds]\n",
    "try:\n",
    "    x = x.values\n",
    "    y = y.values\n",
    "except AttributeError:\n",
    "    pass\n",
    "\n",
    "models = [\n",
    "    LinearRegression, \n",
    "    BayesianLinearRegression, \n",
    "    RFBaseline, \n",
    "    RFUncertainty, \n",
    "    GBTQuantile, \n",
    "    XGBaseline, \n",
    "    XGBLogLikelihood\n",
    "]\n",
    "\n",
    "f = Figure(title=ds)\n",
    "\n",
    "for i, model in enumerate(models):    \n",
    "    reg, sx, sy = eval_dataset_model(ds, x[:-1], y[:-1], model)\n",
    "\n",
    "    pred = reg.predict(sx.transform(x[-1:]))\n",
    "    mu = sy.inverse_transform(pred[0])[0]\n",
    "    sigma = sy.inverse_transform(pred[1])[0]\n",
    "    xx = np.linspace(mu-3*sigma, mu+3*sigma, 1000)\n",
    "    pdf = 1/(sigma * np.sqrt(2*np.pi)) * np.exp(-(xx-mu)**2 / (2*sigma**2))\n",
    "    f.line(xx, pdf, legend=model.__name__, line_width=2, color=Paired[10][i])\n",
    "\n",
    "vline = Span(location=y[-1], dimension='height', line_color='black', line_width=2)\n",
    "f.renderers.append(vline)\n",
    "f.xaxis.axis_label = 'Value'\n",
    "f.yaxis.axis_label = 'PDF'\n",
    "show(f)"
   ]
  },
  {
   "cell_type": "code",
   "execution_count": null,
   "metadata": {},
   "outputs": [],
   "source": []
  }
 ],
 "metadata": {
  "kernelspec": {
   "display_name": "Python 3",
   "language": "python",
   "name": "python3"
  },
  "language_info": {
   "codemirror_mode": {
    "name": "ipython",
    "version": 3
   },
   "file_extension": ".py",
   "mimetype": "text/x-python",
   "name": "python",
   "nbconvert_exporter": "python",
   "pygments_lexer": "ipython3",
   "version": "3.6.5"
  }
 },
 "nbformat": 4,
 "nbformat_minor": 2
}
