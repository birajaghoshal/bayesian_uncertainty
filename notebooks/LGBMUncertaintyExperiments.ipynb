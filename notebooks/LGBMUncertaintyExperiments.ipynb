{
 "cells": [
  {
   "cell_type": "code",
   "execution_count": 16,
   "metadata": {},
   "outputs": [],
   "source": [
    "import numpy as np\n",
    "import time\n",
    "import logging\n",
    "import toolz as fp\n",
    "import pandas as pd\n",
    "\n",
    "from sklearn.model_selection import KFold\n",
    "from datetime import datetime\n",
    "from scipy import stats\n",
    "\n",
    "from bayesian_uncertainty.metrics import nlpd, rmse, auc_rmse, auc_rmse_norm\n",
    "from bayesian_uncertainty.uncertainty_calibration import UncertaintyCalibrator"
   ]
  },
  {
   "cell_type": "code",
   "execution_count": 26,
   "metadata": {},
   "outputs": [],
   "source": [
    "from bayesian_uncertainty.datasets import make_regression_datasets, concrete\n",
    "from bayesian_uncertainty.evaluation import eval_dataset_model\n",
    "from bayesian_uncertainty.shallow_models import LGBMUncertainty"
   ]
  },
  {
   "cell_type": "code",
   "execution_count": 12,
   "metadata": {},
   "outputs": [],
   "source": [
    "logger = logging.getLogger(\"bayesian_uncertainty\")"
   ]
  },
  {
   "cell_type": "code",
   "execution_count": 18,
   "metadata": {},
   "outputs": [],
   "source": [
    "datasets = make_regression_datasets(make_year=False, make_flight=False)"
   ]
  },
  {
   "cell_type": "code",
   "execution_count": 47,
   "metadata": {},
   "outputs": [],
   "source": [
    "lgb = LGBMUncertainty(n_estimators=100, max_depth=6, subsample=0.85)"
   ]
  },
  {
   "cell_type": "code",
   "execution_count": 48,
   "metadata": {},
   "outputs": [],
   "source": [
    "def eval_dataset_model(dataset, model, calibrate_uncertainty=False, uncertainty_calibrator_cv=None):\n",
    "    X, y, splits = dataset()\n",
    "\n",
    "    cv_metrics = []\n",
    "\n",
    "    print(dataset.__name__)\n",
    "    \n",
    "    if type(X) is pd.DataFrame:\n",
    "        X = X.values\n",
    "        y = y.values\n",
    "        \n",
    "    if calibrate_uncertainty:\n",
    "        if uncertainty_calibrator_cv is None:\n",
    "            uncertainty_calibrator_cv = KFold(n_splits=5)\n",
    "        model = UncertaintyCalibrator(model, uncertainty_calibrator_cv)\n",
    "\n",
    "    for train_index, test_index in splits:\n",
    "        X_train, X_test = X[train_index], X[test_index]\n",
    "        y_train, y_test = y[train_index], y[test_index]\n",
    "\n",
    "        start = time.time()\n",
    "        model.fit(X_train, y_train)\n",
    "        train_time = time.time() - start\n",
    "\n",
    "        start = time.time()\n",
    "        pred_mean, pred_std = model.predict(X_test)\n",
    "        test_time = time.time() - start\n",
    "\n",
    "        cv_metrics.append({\n",
    "            \"train_time\": train_time,\n",
    "            \"test_time\": test_time,\n",
    "            \"nlpd\": nlpd(y_test, pred_mean, pred_std),\n",
    "            \"rmse\": rmse(y_test, pred_mean),\n",
    "            \"auc_rmse\": auc_rmse(y_test, pred_mean, pred_std),\n",
    "            \"auc_rmse_norm\": auc_rmse_norm(y_test, pred_mean, pred_std)\n",
    "        })\n",
    "\n",
    "    metrics_df = pd.DataFrame(cv_metrics)\n",
    "    \n",
    "    metrics_mean = metrics_df.mean(axis=0)\n",
    "    metrics_stderr = metrics_df.sem(axis=0)\n",
    "\n",
    "    results = {\n",
    "        \"current_time\": str(datetime.now()),\n",
    "        \"dataset\": dataset.__name__,\n",
    "        \"model\": type(model).__name__,\n",
    "        \"shape\": X.shape,\n",
    "        \"metrics_df\": metrics_df.to_dict(),\n",
    "        \"metrics_mean\": metrics_mean.to_dict(),\n",
    "        \"metrics_stderr\": metrics_stderr.to_dict()\n",
    "    }\n",
    "\n",
    "    print(fp.dissoc(results, \"metrics_df\"))\n",
    "\n",
    "    return results"
   ]
  },
  {
   "cell_type": "code",
   "execution_count": 49,
   "metadata": {},
   "outputs": [
    {
     "name": "stdout",
     "output_type": "stream",
     "text": [
      "boston\n",
      "{'current_time': '2018-09-16 01:11:15.122984', 'dataset': 'boston', 'model': 'LGBMUncertainty', 'shape': (506, 13), 'metrics_mean': {'auc_rmse': 2.6376590054867592, 'auc_rmse_norm': 0.8392294773525956, 'nlpd': 2.7772280422453854, 'rmse': 3.217213046460972, 'test_time': 0.013479268550872803, 'train_time': 0.08499497771263123}, 'metrics_stderr': {'auc_rmse': 0.10016953649050223, 'auc_rmse_norm': 0.0267455481591808, 'nlpd': 0.08090836813411836, 'rmse': 0.12429380350363005, 'test_time': 2.925744127508729e-05, 'train_time': 0.001028124395576544}}\n",
      "concrete\n",
      "{'current_time': '2018-09-16 01:11:20.264351', 'dataset': 'concrete', 'model': 'LGBMUncertainty', 'shape': (1030, 8), 'metrics_mean': {'auc_rmse': 3.5131147910565126, 'auc_rmse_norm': 0.7960911712737291, 'nlpd': 2.9581663555915494, 'rmse': 4.440301187276676, 'test_time': 0.026188218593597413, 'train_time': 0.09676451086997986}, 'metrics_stderr': {'auc_rmse': 0.09297123721889518, 'auc_rmse_norm': 0.01645299749096413, 'nlpd': 0.03665169876815486, 'rmse': 0.1047378935706999, 'test_time': 3.6808291471494e-05, 'train_time': 0.0003027145024448327}}\n",
      "energy\n",
      "{'current_time': '2018-09-16 01:11:24.805910', 'dataset': 'energy', 'model': 'LGBMUncertainty', 'shape': (768, 8), 'metrics_mean': {'auc_rmse': 0.378181697507248, 'auc_rmse_norm': 0.7733435083398484, 'nlpd': 1.742491429686525, 'rmse': 0.4852957172085269, 'test_time': 0.019837313890457155, 'train_time': 0.08951972723007202}, 'metrics_stderr': {'auc_rmse': 0.01684615794315013, 'auc_rmse_norm': 0.02496854206916039, 'nlpd': 0.0011793795653854127, 'rmse': 0.011140132694030653, 'test_time': 3.07295642778348e-05, 'train_time': 0.0003119349264038298}}\n",
      "kin8nm\n",
      "{'current_time': '2018-09-16 01:11:45.072855', 'dataset': 'kin8nm', 'model': 'LGBMUncertainty', 'shape': (8192, 8), 'metrics_mean': {'auc_rmse': 0.1270328883290056, 'auc_rmse_norm': 0.9603706643961459, 'nlpd': 0.0006640091197816705, 'rmse': 0.1323468854444261, 'test_time': 0.1974366068840027, 'train_time': 0.1683722734451294}, 'metrics_stderr': {'auc_rmse': 0.0006513628057013249, 'auc_rmse_norm': 0.003956784379991435, 'nlpd': 0.01696948173212725, 'rmse': 0.0006652012043484622, 'test_time': 0.00028737240705997604, 'train_time': 0.0006116884047104099}}\n",
      "naval\n",
      "{'current_time': '2018-09-16 01:12:15.451588', 'dataset': 'naval', 'model': 'LGBMUncertainty', 'shape': (11934, 16), 'metrics_mean': {'auc_rmse': 0.0015528765048942541, 'auc_rmse_norm': 0.9358634641223873, 'nlpd': -1.4138383830075736, 'rmse': 0.00166020668570184, 'test_time': 0.28524153828620913, 'train_time': 0.14946703910827636}, 'metrics_stderr': {'auc_rmse': 1.1871233760795624e-05, 'auc_rmse_norm': 0.004323489991014612, 'nlpd': 5.385347746453374e-06, 'rmse': 1.203003181882129e-05, 'test_time': 0.0002783046259311556, 'train_time': 0.0003537903256211397}}\n",
      "power\n",
      "{'current_time': '2018-09-16 01:12:38.835251', 'dataset': 'power', 'model': 'LGBMUncertainty', 'shape': (9568, 4), 'metrics_mean': {'auc_rmse': 3.273677140828222, 'auc_rmse_norm': 0.9591028247393965, 'nlpd': 4.7331173191954345, 'rmse': 3.42188400700795, 'test_time': 0.22818673253059388, 'train_time': 0.1543900489807129}, 'metrics_stderr': {'auc_rmse': 0.017730414990997635, 'auc_rmse_norm': 0.007960877794708372, 'nlpd': 5.36516783374907e-05, 'rmse': 0.03172871787724604, 'test_time': 0.0002107148333589562, 'train_time': 0.0003738318019938468}}\n",
      "protein\n",
      "{'current_time': '2018-09-16 01:17:41.501415', 'dataset': 'protein', 'model': 'LGBMUncertainty', 'shape': (45730, 9), 'metrics_mean': {'auc_rmse': 3.699978396080905, 'auc_rmse_norm': 0.885824787926612, 'nlpd': 14.977467504483519, 'rmse': 4.176962361183075, 'test_time': 3.6797756354014077, 'train_time': 0.19196605682373047}, 'metrics_stderr': {'auc_rmse': 0.014301690980694951, 'auc_rmse_norm': 0.0020670949087428425, 'nlpd': 0.20722055789340316, 'rmse': 0.021430568219326415, 'test_time': 0.015800176358690434, 'train_time': 0.0021116724667865445}}\n",
      "wine\n",
      "{'current_time': '2018-09-16 01:17:47.824073', 'dataset': 'wine', 'model': 'LGBMUncertainty', 'shape': (1599, 11), 'metrics_mean': {'auc_rmse': 0.5898016913969445, 'auc_rmse_norm': 0.9873475275589598, 'nlpd': 0.9092119438230648, 'rmse': 0.5972222804169595, 'test_time': 0.03936113119125366, 'train_time': 0.10922826528549194}, 'metrics_stderr': {'auc_rmse': 0.010908298110156067, 'auc_rmse_norm': 0.013522941115982881, 'nlpd': 0.01185987650244492, 'rmse': 0.006217708347989548, 'test_time': 4.746364736896577e-05, 'train_time': 0.0009246150059594515}}\n",
      "yacht\n",
      "{'current_time': '2018-09-16 01:17:50.533846', 'dataset': 'yacht', 'model': 'LGBMUncertainty', 'shape': (308, 6), 'metrics_mean': {'auc_rmse': 0.4944550543749836, 'auc_rmse_norm': 0.2814128942753825, 'nlpd': 3.3939818429838597, 'rmse': 2.370252495461812, 'test_time': 0.008720934391021729, 'train_time': 0.056831073760986325}, 'metrics_stderr': {'auc_rmse': 0.056609691207390095, 'auc_rmse_norm': 0.019809685891087114, 'nlpd': 0.4538557375422786, 'rmse': 0.3265934054990721, 'test_time': 2.79581171098123e-05, 'train_time': 0.00033643598337224025}}\n"
     ]
    }
   ],
   "source": [
    "results = []\n",
    "for d in datasets:\n",
    "    results.append(eval_dataset_model(d, lgb))"
   ]
  },
  {
   "cell_type": "code",
   "execution_count": 52,
   "metadata": {},
   "outputs": [
    {
     "data": {
      "text/plain": [
       "'2018_09_16_20_15'"
      ]
     },
     "execution_count": 52,
     "metadata": {},
     "output_type": "execute_result"
    }
   ],
   "source": [
    "str(datetime.now().strftime(\"%Y_%m_%d_%H_%M\"))"
   ]
  },
  {
   "cell_type": "code",
   "execution_count": 54,
   "metadata": {},
   "outputs": [
    {
     "data": {
      "text/plain": [
       "'LGBMUncertainty()'"
      ]
     },
     "execution_count": 54,
     "metadata": {},
     "output_type": "execute_result"
    }
   ],
   "source": [
    "str(LGBMUncertainty(n_estimators=100, max_depth=3, learning_rate=0.1, subsample=0.85))\n"
   ]
  },
  {
   "cell_type": "code",
   "execution_count": 56,
   "metadata": {},
   "outputs": [],
   "source": [
    "gb_models = [\n",
    "    LGBMUncertainty(n_estimators=100, max_depth=3, learning_rate=0.1, subsample=0.85)\n",
    "]"
   ]
  },
  {
   "cell_type": "code",
   "execution_count": 57,
   "metadata": {},
   "outputs": [
    {
     "data": {
      "text/plain": [
       "[LGBMUncertainty()]"
      ]
     },
     "execution_count": 57,
     "metadata": {},
     "output_type": "execute_result"
    }
   ],
   "source": [
    "gb_models"
   ]
  },
  {
   "cell_type": "code",
   "execution_count": 59,
   "metadata": {},
   "outputs": [
    {
     "ename": "TypeError",
     "evalue": "[LGBMUncertainty()] is not a module, class, method, function, traceback, frame, or code object",
     "output_type": "error",
     "traceback": [
      "\u001b[0;31m\u001b[0m",
      "\u001b[0;31mTypeError\u001b[0mTraceback (most recent call last)",
      "\u001b[0;32m<ipython-input-59-749a9e8758c2>\u001b[0m in \u001b[0;36m<module>\u001b[0;34m()\u001b[0m\n\u001b[1;32m      1\u001b[0m \u001b[0;32mimport\u001b[0m \u001b[0minspect\u001b[0m\u001b[0;34m\u001b[0m\u001b[0m\n\u001b[0;32m----> 2\u001b[0;31m \u001b[0mlines\u001b[0m \u001b[0;34m=\u001b[0m \u001b[0minspect\u001b[0m\u001b[0;34m.\u001b[0m\u001b[0mgetsource\u001b[0m\u001b[0;34m(\u001b[0m\u001b[0mgb_models\u001b[0m\u001b[0;34m)\u001b[0m\u001b[0;34m\u001b[0m\u001b[0m\n\u001b[0m",
      "\u001b[0;32m/opt/conda/lib/python3.6/inspect.py\u001b[0m in \u001b[0;36mgetsource\u001b[0;34m(object)\u001b[0m\n\u001b[1;32m    963\u001b[0m     \u001b[0;32mor\u001b[0m \u001b[0mcode\u001b[0m \u001b[0mobject\u001b[0m\u001b[0;34m.\u001b[0m  \u001b[0mThe\u001b[0m \u001b[0msource\u001b[0m \u001b[0mcode\u001b[0m \u001b[0;32mis\u001b[0m \u001b[0mreturned\u001b[0m \u001b[0;32mas\u001b[0m \u001b[0ma\u001b[0m \u001b[0msingle\u001b[0m \u001b[0mstring\u001b[0m\u001b[0;34m.\u001b[0m  \u001b[0mAn\u001b[0m\u001b[0;34m\u001b[0m\u001b[0m\n\u001b[1;32m    964\u001b[0m     OSError is raised if the source code cannot be retrieved.\"\"\"\n\u001b[0;32m--> 965\u001b[0;31m     \u001b[0mlines\u001b[0m\u001b[0;34m,\u001b[0m \u001b[0mlnum\u001b[0m \u001b[0;34m=\u001b[0m \u001b[0mgetsourcelines\u001b[0m\u001b[0;34m(\u001b[0m\u001b[0mobject\u001b[0m\u001b[0;34m)\u001b[0m\u001b[0;34m\u001b[0m\u001b[0m\n\u001b[0m\u001b[1;32m    966\u001b[0m     \u001b[0;32mreturn\u001b[0m \u001b[0;34m''\u001b[0m\u001b[0;34m.\u001b[0m\u001b[0mjoin\u001b[0m\u001b[0;34m(\u001b[0m\u001b[0mlines\u001b[0m\u001b[0;34m)\u001b[0m\u001b[0;34m\u001b[0m\u001b[0m\n\u001b[1;32m    967\u001b[0m \u001b[0;34m\u001b[0m\u001b[0m\n",
      "\u001b[0;32m/opt/conda/lib/python3.6/inspect.py\u001b[0m in \u001b[0;36mgetsourcelines\u001b[0;34m(object)\u001b[0m\n\u001b[1;32m    950\u001b[0m     raised if the source code cannot be retrieved.\"\"\"\n\u001b[1;32m    951\u001b[0m     \u001b[0mobject\u001b[0m \u001b[0;34m=\u001b[0m \u001b[0munwrap\u001b[0m\u001b[0;34m(\u001b[0m\u001b[0mobject\u001b[0m\u001b[0;34m)\u001b[0m\u001b[0;34m\u001b[0m\u001b[0m\n\u001b[0;32m--> 952\u001b[0;31m     \u001b[0mlines\u001b[0m\u001b[0;34m,\u001b[0m \u001b[0mlnum\u001b[0m \u001b[0;34m=\u001b[0m \u001b[0mfindsource\u001b[0m\u001b[0;34m(\u001b[0m\u001b[0mobject\u001b[0m\u001b[0;34m)\u001b[0m\u001b[0;34m\u001b[0m\u001b[0m\n\u001b[0m\u001b[1;32m    953\u001b[0m \u001b[0;34m\u001b[0m\u001b[0m\n\u001b[1;32m    954\u001b[0m     \u001b[0;32mif\u001b[0m \u001b[0mismodule\u001b[0m\u001b[0;34m(\u001b[0m\u001b[0mobject\u001b[0m\u001b[0;34m)\u001b[0m\u001b[0;34m:\u001b[0m\u001b[0;34m\u001b[0m\u001b[0m\n",
      "\u001b[0;32m/opt/conda/lib/python3.6/inspect.py\u001b[0m in \u001b[0;36mfindsource\u001b[0;34m(object)\u001b[0m\n\u001b[1;32m    763\u001b[0m     is raised if the source code cannot be retrieved.\"\"\"\n\u001b[1;32m    764\u001b[0m \u001b[0;34m\u001b[0m\u001b[0m\n\u001b[0;32m--> 765\u001b[0;31m     \u001b[0mfile\u001b[0m \u001b[0;34m=\u001b[0m \u001b[0mgetsourcefile\u001b[0m\u001b[0;34m(\u001b[0m\u001b[0mobject\u001b[0m\u001b[0;34m)\u001b[0m\u001b[0;34m\u001b[0m\u001b[0m\n\u001b[0m\u001b[1;32m    766\u001b[0m     \u001b[0;32mif\u001b[0m \u001b[0mfile\u001b[0m\u001b[0;34m:\u001b[0m\u001b[0;34m\u001b[0m\u001b[0m\n\u001b[1;32m    767\u001b[0m         \u001b[0;31m# Invalidate cache if needed.\u001b[0m\u001b[0;34m\u001b[0m\u001b[0;34m\u001b[0m\u001b[0m\n",
      "\u001b[0;32m/opt/conda/lib/python3.6/inspect.py\u001b[0m in \u001b[0;36mgetsourcefile\u001b[0;34m(object)\u001b[0m\n\u001b[1;32m    679\u001b[0m     \u001b[0mReturn\u001b[0m \u001b[0;32mNone\u001b[0m \u001b[0;32mif\u001b[0m \u001b[0mno\u001b[0m \u001b[0mway\u001b[0m \u001b[0mcan\u001b[0m \u001b[0mbe\u001b[0m \u001b[0midentified\u001b[0m \u001b[0mto\u001b[0m \u001b[0mget\u001b[0m \u001b[0mthe\u001b[0m \u001b[0msource\u001b[0m\u001b[0;34m.\u001b[0m\u001b[0;34m\u001b[0m\u001b[0m\n\u001b[1;32m    680\u001b[0m     \"\"\"\n\u001b[0;32m--> 681\u001b[0;31m     \u001b[0mfilename\u001b[0m \u001b[0;34m=\u001b[0m \u001b[0mgetfile\u001b[0m\u001b[0;34m(\u001b[0m\u001b[0mobject\u001b[0m\u001b[0;34m)\u001b[0m\u001b[0;34m\u001b[0m\u001b[0m\n\u001b[0m\u001b[1;32m    682\u001b[0m     \u001b[0mall_bytecode_suffixes\u001b[0m \u001b[0;34m=\u001b[0m \u001b[0mimportlib\u001b[0m\u001b[0;34m.\u001b[0m\u001b[0mmachinery\u001b[0m\u001b[0;34m.\u001b[0m\u001b[0mDEBUG_BYTECODE_SUFFIXES\u001b[0m\u001b[0;34m[\u001b[0m\u001b[0;34m:\u001b[0m\u001b[0;34m]\u001b[0m\u001b[0;34m\u001b[0m\u001b[0m\n\u001b[1;32m    683\u001b[0m     \u001b[0mall_bytecode_suffixes\u001b[0m \u001b[0;34m+=\u001b[0m \u001b[0mimportlib\u001b[0m\u001b[0;34m.\u001b[0m\u001b[0mmachinery\u001b[0m\u001b[0;34m.\u001b[0m\u001b[0mOPTIMIZED_BYTECODE_SUFFIXES\u001b[0m\u001b[0;34m[\u001b[0m\u001b[0;34m:\u001b[0m\u001b[0;34m]\u001b[0m\u001b[0;34m\u001b[0m\u001b[0m\n",
      "\u001b[0;32m/opt/conda/lib/python3.6/inspect.py\u001b[0m in \u001b[0;36mgetfile\u001b[0;34m(object)\u001b[0m\n\u001b[1;32m    661\u001b[0m         \u001b[0;32mreturn\u001b[0m \u001b[0mobject\u001b[0m\u001b[0;34m.\u001b[0m\u001b[0mco_filename\u001b[0m\u001b[0;34m\u001b[0m\u001b[0m\n\u001b[1;32m    662\u001b[0m     raise TypeError('{!r} is not a module, class, method, '\n\u001b[0;32m--> 663\u001b[0;31m                     'function, traceback, frame, or code object'.format(object))\n\u001b[0m\u001b[1;32m    664\u001b[0m \u001b[0;34m\u001b[0m\u001b[0m\n\u001b[1;32m    665\u001b[0m \u001b[0;32mdef\u001b[0m \u001b[0mgetmodulename\u001b[0m\u001b[0;34m(\u001b[0m\u001b[0mpath\u001b[0m\u001b[0;34m)\u001b[0m\u001b[0;34m:\u001b[0m\u001b[0;34m\u001b[0m\u001b[0m\n",
      "\u001b[0;31mTypeError\u001b[0m: [LGBMUncertainty()] is not a module, class, method, function, traceback, frame, or code object"
     ]
    }
   ],
   "source": [
    "import inspect\n",
    "lines = inspect.getsource(gb_models)"
   ]
  },
  {
   "cell_type": "code",
   "execution_count": 60,
   "metadata": {},
   "outputs": [],
   "source": [
    "from sklearn.ensemble import RandomForestClassifier"
   ]
  },
  {
   "cell_type": "code",
   "execution_count": 84,
   "metadata": {},
   "outputs": [],
   "source": [
    "from sklearn.base import BaseEstimator, RegressorMixin\n"
   ]
  },
  {
   "cell_type": "code",
   "execution_count": 115,
   "metadata": {},
   "outputs": [],
   "source": [
    "class LGBMUncertainty(BaseEstimator, RegressorMixin):\n",
    "\n",
    "    def __init__(self, n_estimators, **kwargs):\n",
    "        self.lgb = LGBMRegressor(**kwargs)\n",
    "        self.n_estimators = n_estimators\n",
    "        \n",
    "    def get_params(self, deep=True):\n",
    "        return self.lgb.get_params()\n",
    "    \n",
    "    def set_params(self, **params):\n",
    "        if \"a\" in params:\n",
    "            print(params[\"a\"])\n",
    "        self.lgb.set_params(**params)\n",
    "        return self"
   ]
  },
  {
   "cell_type": "code",
   "execution_count": 118,
   "metadata": {},
   "outputs": [
    {
     "name": "stdout",
     "output_type": "stream",
     "text": [
      "2\n"
     ]
    }
   ],
   "source": [
    "b=LGBMUncertainty(n_estimators=666).set_params(learning_rate=0.123, a=2).get_params()"
   ]
  },
  {
   "cell_type": "code",
   "execution_count": 121,
   "metadata": {},
   "outputs": [
    {
     "data": {
      "text/plain": [
       "{'boosting_type': 'gbdt',\n",
       " 'class_weight': None,\n",
       " 'colsample_bytree': 1.0,\n",
       " 'learning_rate': 0.123,\n",
       " 'max_depth': -1,\n",
       " 'min_child_samples': 20,\n",
       " 'min_child_weight': 0.001,\n",
       " 'min_split_gain': 0.0,\n",
       " 'n_estimators': 100,\n",
       " 'n_jobs': -1,\n",
       " 'num_leaves': 31,\n",
       " 'objective': None,\n",
       " 'random_state': None,\n",
       " 'reg_alpha': 0.0,\n",
       " 'reg_lambda': 0.0,\n",
       " 'silent': True,\n",
       " 'subsample': 1.0,\n",
       " 'subsample_for_bin': 200000,\n",
       " 'subsample_freq': 0,\n",
       " 'a': 2}"
      ]
     },
     "execution_count": 121,
     "metadata": {},
     "output_type": "execute_result"
    }
   ],
   "source": [
    "b"
   ]
  },
  {
   "cell_type": "code",
   "execution_count": 3,
   "metadata": {},
   "outputs": [
    {
     "ename": "KeyError",
     "evalue": "'r'",
     "output_type": "error",
     "traceback": [
      "\u001b[0;31m\u001b[0m",
      "\u001b[0;31mKeyError\u001b[0mTraceback (most recent call last)",
      "\u001b[0;32m<ipython-input-3-e721860dacab>\u001b[0m in \u001b[0;36m<module>\u001b[0;34m()\u001b[0m\n\u001b[1;32m      1\u001b[0m \u001b[0mnames\u001b[0m \u001b[0;34m=\u001b[0m \u001b[0;34m[\u001b[0m\u001b[0;34m\"r\"\u001b[0m\u001b[0;34m]\u001b[0m\u001b[0;34m\u001b[0m\u001b[0m\n\u001b[1;32m      2\u001b[0m \u001b[0mvisited\u001b[0m \u001b[0;34m=\u001b[0m \u001b[0;34m{\u001b[0m\u001b[0;34m}\u001b[0m\u001b[0;34m\u001b[0m\u001b[0m\n\u001b[0;32m----> 3\u001b[0;31m \u001b[0;34m[\u001b[0m\u001b[0mname\u001b[0m \u001b[0;32mfor\u001b[0m \u001b[0mname\u001b[0m \u001b[0;32min\u001b[0m \u001b[0mnames\u001b[0m \u001b[0;32mif\u001b[0m \u001b[0;32mnot\u001b[0m \u001b[0mvisited\u001b[0m\u001b[0;34m[\u001b[0m\u001b[0mname\u001b[0m\u001b[0;34m]\u001b[0m\u001b[0;34m]\u001b[0m\u001b[0;34m\u001b[0m\u001b[0m\n\u001b[0m",
      "\u001b[0;31mKeyError\u001b[0m: 'r'"
     ]
    }
   ],
   "source": [
    "names = [\"r\"]\n",
    "visited = {}\n",
    "[name for name in names if not visited[name]]"
   ]
  },
  {
   "cell_type": "code",
   "execution_count": 7,
   "metadata": {},
   "outputs": [
    {
     "data": {
      "text/plain": [
       "0.00012340980408667956"
      ]
     },
     "execution_count": 7,
     "metadata": {},
     "output_type": "execute_result"
    }
   ],
   "source": [
    "import numpy as np\n",
    "np.exp(-9)"
   ]
  },
  {
   "cell_type": "code",
   "execution_count": null,
   "metadata": {},
   "outputs": [],
   "source": []
  }
 ],
 "metadata": {
  "kernelspec": {
   "display_name": "Python [conda env:python2]",
   "language": "python",
   "name": "conda-env-python2-py"
  },
  "language_info": {
   "codemirror_mode": {
    "name": "ipython",
    "version": 2
   },
   "file_extension": ".py",
   "mimetype": "text/x-python",
   "name": "python",
   "nbconvert_exporter": "python",
   "pygments_lexer": "ipython2",
   "version": "2.7.15"
  }
 },
 "nbformat": 4,
 "nbformat_minor": 2
}
