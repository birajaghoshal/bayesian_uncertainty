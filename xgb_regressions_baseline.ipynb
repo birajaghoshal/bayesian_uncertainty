{
 "cells": [
  {
   "cell_type": "code",
   "execution_count": 1,
   "metadata": {
    "collapsed": true
   },
   "outputs": [],
   "source": [
    "import time\n",
    "import datetime\n",
    "from collections import OrderedDict\n",
    "import pandas as pd\n",
    "import numpy as np\n",
    "import scipy\n",
    "from scipy.stats import norm\n",
    "from xgboost import XGBRegressor\n",
    "import sklearn\n",
    "from sklearn.model_selection import ShuffleSplit, KFold, RepeatedKFold, cross_val_score, GridSearchCV\n",
    "from sklearn.metrics import mean_squared_error, make_scorer, mean_squared_error\n",
    "from sklearn.datasets import load_boston\n",
    "from sklearn.base import BaseEstimator, RegressorMixin"
   ]
  },
  {
   "cell_type": "code",
   "execution_count": 2,
   "metadata": {
    "collapsed": true
   },
   "outputs": [],
   "source": [
    "N_JOBS = 16\n",
    "datasets = OrderedDict()\n",
    "results = OrderedDict()\n",
    "results2 = OrderedDict()\n",
    "results_gs = OrderedDict()\n",
    "results_gs2 = OrderedDict()\n",
    "results_gs3 = OrderedDict()"
   ]
  },
  {
   "cell_type": "code",
   "execution_count": 3,
   "metadata": {
    "collapsed": true
   },
   "outputs": [],
   "source": [
    "datasets['boston'] = (load_boston()['data'], load_boston()['target'])"
   ]
  },
  {
   "cell_type": "code",
   "execution_count": 4,
   "metadata": {
    "collapsed": true
   },
   "outputs": [],
   "source": [
    "df = pd.read_csv('datasets/concrete_data.csv')\n",
    "datasets['concrete'] =  (df.iloc[:, :-1], df.iloc[:, -1])"
   ]
  },
  {
   "cell_type": "code",
   "execution_count": 5,
   "metadata": {
    "collapsed": true
   },
   "outputs": [],
   "source": [
    "df = pd.read_csv('datasets/energy_efficiency.csv')\n",
    "datasets['energy'] =  (df.iloc[:, :-2], df.iloc[:, -2])"
   ]
  },
  {
   "cell_type": "code",
   "execution_count": 6,
   "metadata": {
    "collapsed": true
   },
   "outputs": [],
   "source": [
    "df = pd.read_csv('datasets/kin8nm.csv')\n",
    "datasets['kin8nm'] =  (df.iloc[:, :-1], df.iloc[:, -1])"
   ]
  },
  {
   "cell_type": "code",
   "execution_count": 7,
   "metadata": {
    "collapsed": true
   },
   "outputs": [],
   "source": [
    "df = pd.read_table('datasets/naval.txt', sep='\\s+', header=None)\n",
    "datasets['naval'] =  (df.iloc[:, :-2], df.iloc[:, -2])"
   ]
  },
  {
   "cell_type": "code",
   "execution_count": 8,
   "metadata": {
    "collapsed": true
   },
   "outputs": [],
   "source": [
    "df = pd.read_csv('datasets/power.csv')\n",
    "datasets['power'] =  (df.iloc[:, :-1], df.iloc[:, -1])"
   ]
  },
  {
   "cell_type": "code",
   "execution_count": 9,
   "metadata": {
    "collapsed": true
   },
   "outputs": [],
   "source": [
    "df = pd.read_csv('datasets/protein.csv')\n",
    "datasets['protein'] =  (df.iloc[:, 1:], df.iloc[:, 0])"
   ]
  },
  {
   "cell_type": "code",
   "execution_count": 10,
   "metadata": {
    "collapsed": true
   },
   "outputs": [],
   "source": [
    "df = pd.read_csv('datasets/wine.csv', sep=';')\n",
    "datasets['wine'] =  (df.iloc[:, :-1], df.iloc[:, -1])"
   ]
  },
  {
   "cell_type": "code",
   "execution_count": 11,
   "metadata": {
    "collapsed": true
   },
   "outputs": [],
   "source": [
    "df = pd.read_table('datasets/yacht.txt', sep='\\s+', header=None)\n",
    "datasets['yacht'] =  (df.iloc[:, :-1], df.iloc[:, -1])"
   ]
  },
  {
   "cell_type": "code",
   "execution_count": 23,
   "metadata": {
    "collapsed": true
   },
   "outputs": [],
   "source": [
    "df = pd.read_table('datasets/year.txt', sep=',', header=None)\n",
    "datasets['year'] =  (df.iloc[:, 1:], df.iloc[:, 0])"
   ]
  },
  {
   "cell_type": "code",
   "execution_count": 21,
   "metadata": {
    "collapsed": true
   },
   "outputs": [],
   "source": [
    "def normal_ll(y, y_pred):\n",
    "    mean, log_var = y_pred\n",
    "    return scipy.stats.norm.logpdf(y, loc = mean, scale = np.exp(log_var/2)).mean()\n",
    "\n",
    "ll_scorer = make_scorer(normal_ll, greater_is_better=True)\n",
    "\n",
    "class BaselineLL(BaseEstimator, RegressorMixin):      \n",
    "    def __init__(self, n_estimators=100, learning_rate=0.1, max_depth=3, subsample=1):\n",
    "        self.n_estimators = n_estimators\n",
    "        self.learning_rate = learning_rate\n",
    "        self.max_depth = max_depth\n",
    "        self.subsample = subsample\n",
    "\n",
    "    def fit(self, X, y):\n",
    "        self.xgb_mean = XGBRegressor(n_estimators=self.n_estimators, learning_rate=self.learning_rate, max_depth=self.max_depth, subsample=self.subsample)\n",
    "        self.xgb_mean.fit(X, y)\n",
    "        mean = self.xgb_mean.predict(X)\n",
    "        self.mu, self.std = norm.fit(y-mean)\n",
    "        return self\n",
    "\n",
    "    def predict(self, X, y=None):\n",
    "        pred_mean = self.xgb_mean.predict(X)#-self.mu\n",
    "        #print(np.mean(self.mu), np.mean(self.mu/pred_mean))\n",
    "        pred_var = np.sqrt(self.std)\n",
    "        return pred_mean, pred_var"
   ]
  },
  {
   "cell_type": "code",
   "execution_count": null,
   "metadata": {
    "collapsed": true
   },
   "outputs": [],
   "source": [
    "for d, (X,y) in reversed(datasets.items()):\n",
    "    reg = XGBRegressor(n_estimators=300)\n",
    "    if d == 'year':\n",
    "        cv = ShuffleSplit(3, test_size=0.1)\n",
    "    elif d == 'protein':\n",
    "        cv = KFold(n_splits=10)\n",
    "    else:\n",
    "        cv = RepeatedKFold(n_splits=10, n_repeats=4)\n",
    "\n",
    "    rmse = np.sqrt(cross_val_score(reg, X, y, cv=cv, scoring=make_scorer(mean_squared_error), n_jobs=N_JOBS))\n",
    "    \n",
    "    ll = cross_val_score(BaselineLL(n_estimators=300), X, y, cv=cv, scoring=ll_scorer, n_jobs=N_JOBS)\n",
    "    \n",
    "    results[d] = (datetime.datetime.now(), d, X.shape[0], X.shape[1],\n",
    "                  rmse.mean(), scipy.stats.sem(rmse),\n",
    "                  ll.mean(), scipy.stats.sem(ll))\n",
    "    \n",
    "    print(*results[d])"
   ]
  },
  {
   "cell_type": "code",
   "execution_count": 16,
   "metadata": {},
   "outputs": [
    {
     "name": "stdout",
     "output_type": "stream",
     "text": [
      "boston rmse  & 2.94 \\tpm 0.09\n",
      "boston ll  & -3.33 \\tpm 0.18\n",
      "concrete rmse  & 4.32 \\tpm 0.11\n",
      "concrete ll  & -3.56 \\tpm 0.07\n",
      "energy rmse  & 0.40 \\tpm 0.01\n",
      "energy ll  & -1.25 \\tpm 0.00\n",
      "kin8nm rmse  & 0.16 \\tpm 0.00\n",
      "kin8nm ll  & -1.12 \\tpm 0.00\n",
      "naval rmse  & 0.00 \\tpm 0.00\n",
      "naval ll  & -0.94 \\tpm 0.00\n",
      "power rmse  & 3.55 \\tpm 0.03\n",
      "power ll  & -2.87 \\tpm 0.02\n",
      "protein rmse  & 4.37 \\tpm 0.02\n",
      "protein ll  & -3.17 \\tpm 0.01\n",
      "wine rmse  & 0.61 \\tpm 0.01\n",
      "wine ll  & -1.33 \\tpm 0.00\n",
      "yacht rmse  & 0.57 \\tpm 0.04\n",
      "yacht ll  & -1.25 \\tpm 0.02\n"
     ]
    }
   ],
   "source": [
    "for i, j in results.items():\n",
    "    res = ['{:.2f}'.format(x) for x in j[-4:]]\n",
    "    print(i, 'rmse', ' & ' + ' \\\\tpm '.join(res[0:2]))\n",
    "    print(i, 'll', ' & ' + ' \\\\tpm '.join(res[2:]))"
   ]
  },
  {
   "cell_type": "code",
   "execution_count": 27,
   "metadata": {},
   "outputs": [
    {
     "data": {
      "text/plain": [
       "OrderedDict([('boston',\n",
       "              (datetime.datetime(2018, 2, 26, 19, 21, 1, 777986),\n",
       "               'boston',\n",
       "               506,\n",
       "               13,\n",
       "               2.9573087801970432,\n",
       "               0.11340998303447675,\n",
       "               -3.2152817983060187,\n",
       "               0.12498107408641214)),\n",
       "             ('concrete',\n",
       "              (datetime.datetime(2018, 2, 26, 19, 20, 59, 430078),\n",
       "               'concrete',\n",
       "               1030,\n",
       "               8,\n",
       "               4.299174794347391,\n",
       "               0.09713329307022893,\n",
       "               -3.58624786692869,\n",
       "               0.07407400993637028)),\n",
       "             ('energy',\n",
       "              (datetime.datetime(2018, 2, 26, 19, 20, 57, 16869),\n",
       "               'energy',\n",
       "               768,\n",
       "               8,\n",
       "               0.392606850415966,\n",
       "               0.010035053120325304,\n",
       "               -1.246975549532089,\n",
       "               0.0017984015710252798)),\n",
       "             ('kin8nm',\n",
       "              (datetime.datetime(2018, 2, 26, 19, 20, 55, 75123),\n",
       "               'kin8nm',\n",
       "               8192,\n",
       "               8,\n",
       "               0.16362556910683843,\n",
       "               0.0007216596409906557,\n",
       "               -1.1156339202652854,\n",
       "               0.00018705959798860362)),\n",
       "             ('naval',\n",
       "              (datetime.datetime(2018, 2, 26, 19, 20, 35, 175921),\n",
       "               'naval',\n",
       "               11934,\n",
       "               16,\n",
       "               0.0018156191332914101,\n",
       "               1.1387142529193283e-05,\n",
       "               -0.9388219776627373,\n",
       "               2.9399121786073587e-05)),\n",
       "             ('power',\n",
       "              (datetime.datetime(2018, 2, 26, 19, 20, 2, 686427),\n",
       "               'power',\n",
       "               9568,\n",
       "               4,\n",
       "               3.5528697154298,\n",
       "               0.02535316099486099,\n",
       "               -2.86429479937867,\n",
       "               0.01902511972736694)),\n",
       "             ('protein',\n",
       "              (datetime.datetime(2018, 2, 26, 19, 19, 52, 368532),\n",
       "               'protein',\n",
       "               45730,\n",
       "               9,\n",
       "               4.369270468925696,\n",
       "               0.016002545621752278,\n",
       "               -3.167490190972379,\n",
       "               0.009375910191053004)),\n",
       "             ('wine',\n",
       "              (datetime.datetime(2018, 2, 26, 19, 19, 14, 447552),\n",
       "               'wine',\n",
       "               1599,\n",
       "               11,\n",
       "               0.6132770046719851,\n",
       "               0.006713871562404344,\n",
       "               -1.3283344391385308,\n",
       "               0.0018668433453505689)),\n",
       "             ('yacht',\n",
       "              (datetime.datetime(2018, 2, 26, 19, 19, 10, 726505),\n",
       "               'yacht',\n",
       "               308,\n",
       "               6,\n",
       "               0.5931748106847492,\n",
       "               0.0389482967560448,\n",
       "               -1.2226652327532581,\n",
       "               0.011906480595126754)),\n",
       "             ('year',\n",
       "              (datetime.datetime(2018, 2, 26, 19, 19, 9, 183803),\n",
       "               'year',\n",
       "               515345,\n",
       "               90,\n",
       "               9.065716705560964,\n",
       "               0.028301399685102514,\n",
       "               -4.461043632217145,\n",
       "               0.009568839986080671))])"
      ]
     },
     "execution_count": 27,
     "metadata": {},
     "output_type": "execute_result"
    }
   ],
   "source": [
    "results"
   ]
  },
  {
   "cell_type": "code",
   "execution_count": 28,
   "metadata": {},
   "outputs": [
    {
     "data": {
      "text/plain": [
       "OrderedDict([('boston',\n",
       "              (datetime.datetime(2018, 2, 26, 19, 21, 1, 777986),\n",
       "               'boston',\n",
       "               506,\n",
       "               13,\n",
       "               2.9573087801970432,\n",
       "               0.11340998303447675,\n",
       "               -3.2152817983060187,\n",
       "               0.12498107408641214)),\n",
       "             ('concrete',\n",
       "              (datetime.datetime(2018, 2, 26, 19, 20, 59, 430078),\n",
       "               'concrete',\n",
       "               1030,\n",
       "               8,\n",
       "               4.299174794347391,\n",
       "               0.09713329307022893,\n",
       "               -3.58624786692869,\n",
       "               0.07407400993637028)),\n",
       "             ('energy',\n",
       "              (datetime.datetime(2018, 2, 26, 19, 20, 57, 16869),\n",
       "               'energy',\n",
       "               768,\n",
       "               8,\n",
       "               0.392606850415966,\n",
       "               0.010035053120325304,\n",
       "               -1.246975549532089,\n",
       "               0.0017984015710252798)),\n",
       "             ('kin8nm',\n",
       "              (datetime.datetime(2018, 2, 26, 19, 20, 55, 75123),\n",
       "               'kin8nm',\n",
       "               8192,\n",
       "               8,\n",
       "               0.16362556910683843,\n",
       "               0.0007216596409906557,\n",
       "               -1.1156339202652854,\n",
       "               0.00018705959798860362)),\n",
       "             ('naval',\n",
       "              (datetime.datetime(2018, 2, 26, 19, 20, 35, 175921),\n",
       "               'naval',\n",
       "               11934,\n",
       "               16,\n",
       "               0.0018156191332914101,\n",
       "               1.1387142529193283e-05,\n",
       "               -0.9388219776627373,\n",
       "               2.9399121786073587e-05)),\n",
       "             ('power',\n",
       "              (datetime.datetime(2018, 2, 26, 19, 20, 2, 686427),\n",
       "               'power',\n",
       "               9568,\n",
       "               4,\n",
       "               3.5528697154298,\n",
       "               0.02535316099486099,\n",
       "               -2.86429479937867,\n",
       "               0.01902511972736694)),\n",
       "             ('protein',\n",
       "              (datetime.datetime(2018, 2, 26, 19, 19, 52, 368532),\n",
       "               'protein',\n",
       "               45730,\n",
       "               9,\n",
       "               4.369270468925696,\n",
       "               0.016002545621752278,\n",
       "               -3.167490190972379,\n",
       "               0.009375910191053004)),\n",
       "             ('wine',\n",
       "              (datetime.datetime(2018, 2, 26, 19, 19, 14, 447552),\n",
       "               'wine',\n",
       "               1599,\n",
       "               11,\n",
       "               0.6132770046719851,\n",
       "               0.006713871562404344,\n",
       "               -1.3283344391385308,\n",
       "               0.0018668433453505689)),\n",
       "             ('yacht',\n",
       "              (datetime.datetime(2018, 2, 26, 19, 19, 10, 726505),\n",
       "               'yacht',\n",
       "               308,\n",
       "               6,\n",
       "               0.5931748106847492,\n",
       "               0.0389482967560448,\n",
       "               -1.2226652327532581,\n",
       "               0.011906480595126754)),\n",
       "             ('year',\n",
       "              (datetime.datetime(2018, 2, 26, 19, 19, 9, 183803),\n",
       "               'year',\n",
       "               515345,\n",
       "               90,\n",
       "               9.065716705560964,\n",
       "               0.028301399685102514,\n",
       "               -4.461043632217145,\n",
       "               0.009568839986080671))])"
      ]
     },
     "execution_count": 28,
     "metadata": {},
     "output_type": "execute_result"
    }
   ],
   "source": [
    "results"
   ]
  },
  {
   "cell_type": "code",
   "execution_count": null,
   "metadata": {
    "collapsed": true
   },
   "outputs": [],
   "source": []
  }
 ],
 "metadata": {
  "kernelspec": {
   "display_name": "Python 3",
   "language": "python",
   "name": "python3"
  },
  "language_info": {
   "codemirror_mode": {
    "name": "ipython",
    "version": 3
   },
   "file_extension": ".py",
   "mimetype": "text/x-python",
   "name": "python",
   "nbconvert_exporter": "python",
   "pygments_lexer": "ipython3",
   "version": "3.6.0"
  }
 },
 "nbformat": 4,
 "nbformat_minor": 2
}
