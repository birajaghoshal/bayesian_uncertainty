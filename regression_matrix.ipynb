{
 "cells": [
  {
   "cell_type": "code",
   "execution_count": 1,
   "metadata": {},
   "outputs": [],
   "source": [
    "%load_ext autoreload\n",
    "%matplotlib inline"
   ]
  },
  {
   "cell_type": "code",
   "execution_count": 88,
   "metadata": {},
   "outputs": [],
   "source": [
    "from sklearn.model_selection import cross_validate, ShuffleSplit, KFold, RepeatedKFold\n",
    "from sklearn.metrics import make_scorer\n",
    "from datetime import datetime\n",
    "from joblib import Parallel, delayed"
   ]
  },
  {
   "cell_type": "code",
   "execution_count": 72,
   "metadata": {},
   "outputs": [],
   "source": [
    "%autoreload 2\n",
    "from datasets import make_datasets"
   ]
  },
  {
   "cell_type": "code",
   "execution_count": 73,
   "metadata": {},
   "outputs": [],
   "source": [
    "datasets = make_datasets(year=False)"
   ]
  },
  {
   "cell_type": "code",
   "execution_count": 74,
   "metadata": {},
   "outputs": [],
   "source": [
    "%autoreload 2\n",
    "from metrics import normal_nll, rmse, mae, auc_rmse, auc_mae"
   ]
  },
  {
   "cell_type": "code",
   "execution_count": 75,
   "metadata": {},
   "outputs": [],
   "source": [
    "%autoreload 2\n",
    "from shallow_models import LinearRegression, BayesianLinearRegression, GBTQuantile, XGBaseline, XGBLogLikelihood\n",
    "models = LinearRegression, BayesianLinearRegression, GBTQuantile, XGBaseline, XGBLogLikelihood"
   ]
  },
  {
   "cell_type": "code",
   "execution_count": 86,
   "metadata": {},
   "outputs": [
    {
     "name": "stdout",
     "output_type": "stream",
     "text": [
      "Results(datetime='2018-02-28 21:12:46.340390', dataset='boston', model='LinearRegression', shape=(506, 13), normal_nll=(3.869981139822862, 0.33501465337831454), rmse=(3.869981139822862, 0.33501465337831454), mae=(3.869981139822862, 0.33501465337831454), auc_rmse=(3.869981139822862, 0.33501465337831454), auc_mae=(3.869981139822862, 0.33501465337831454))\n",
      "Results(datetime='2018-02-28 21:12:46.796980', dataset='boston', model='BayesianLinearRegression', shape=(506, 13), normal_nll=(3.987720908492345, 0.4216856005732957), rmse=(3.987720908492345, 0.4216856005732957), mae=(3.987720908492345, 0.4216856005732957), auc_rmse=(3.987720908492345, 0.4216856005732957), auc_mae=(3.987720908492345, 0.4216856005732957))\n",
      "Results(datetime='2018-02-28 21:12:50.424099', dataset='boston', model='GBTQuantile', shape=(506, 13), normal_nll=(1.772707082286443, 0.37978723066883624), rmse=(1.747863360744369, 0.3814361604211815), mae=(1.7753589316199676, 0.3705406199510351), auc_rmse=(1.7606285817674057, 0.36397521859775456), auc_mae=(1.7534290210893346, 0.3759836149805764))\n",
      "Results(datetime='2018-02-28 21:12:51.133971', dataset='boston', model='XGBaseline', shape=(506, 13), normal_nll=(1.554785023453762, 0.11494113590482384), rmse=(1.554785023453762, 0.11494113590482384), mae=(1.554785023453762, 0.11494113590482384), auc_rmse=(1.554785023453762, 0.11494113590482384), auc_mae=(1.554785023453762, 0.11494113590482384))\n",
      "Results(datetime='2018-02-28 21:12:52.253975', dataset='boston', model='XGBLogLikelihood', shape=(506, 13), normal_nll=(1.332414611659821, 0.16224160509415053), rmse=(1.332414611659821, 0.16224160509415053), mae=(1.332414611659821, 0.16224160509415053), auc_rmse=(1.332414611659821, 0.16224160509415053), auc_mae=(1.332414611659821, 0.16224160509415053))\n",
      "Results(datetime='2018-02-28 21:12:54.412183', dataset='concrete', model='LinearRegression', shape=(1030, 8), normal_nll=(9.190855325977116, 1.5341965511952675), rmse=(9.190855325977116, 1.5341965511952675), mae=(9.190855325977116, 1.5341965511952675), auc_rmse=(9.190855325977116, 1.5341965511952675), auc_mae=(9.190855325977116, 1.5341965511952675))\n",
      "Results(datetime='2018-02-28 21:12:56.483400', dataset='concrete', model='BayesianLinearRegression', shape=(1030, 8), normal_nll=(8.269737646443843, 1.1045435838903706), rmse=(8.269737646443843, 1.1045435838903706), mae=(8.269737646443843, 1.1045435838903706), auc_rmse=(8.269737646443843, 1.1045435838903706), auc_mae=(8.269737646443843, 1.1045435838903706))\n",
      "Results(datetime='2018-02-28 21:13:02.521201', dataset='concrete', model='GBTQuantile', shape=(1030, 8), normal_nll=(3.189652895399493, 0.416810803418868), rmse=(3.156071565821919, 0.4134210554034353), mae=(3.1693717999860107, 0.4178089019331382), auc_rmse=(3.242940768308401, 0.42440519343284205), auc_mae=(3.217425763753911, 0.4133539794858121))\n",
      "Results(datetime='2018-02-28 21:13:04.931512', dataset='concrete', model='XGBaseline', shape=(1030, 8), normal_nll=(3.715720355521868, 0.3672506908086048), rmse=(3.715720355521868, 0.3672506908086048), mae=(3.715720355521868, 0.3672506908086048), auc_rmse=(3.715720355521868, 0.3672506908086048), auc_mae=(3.715720355521868, 0.3672506908086048))\n",
      "Results(datetime='2018-02-28 21:13:07.745722', dataset='concrete', model='XGBLogLikelihood', shape=(1030, 8), normal_nll=(3.1290025091204954, 0.24972961335233038), rmse=(3.1290025091204954, 0.24972961335233038), mae=(3.1290025091204954, 0.24972961335233038), auc_rmse=(3.1290025091204954, 0.24972961335233038), auc_mae=(3.1290025091204954, 0.24972961335233038))\n",
      "Results(datetime='2018-02-28 21:13:08.829154', dataset='energy', model='LinearRegression', shape=(768, 8), normal_nll=(2.7577124067912324, 0.23897518027914125), rmse=(2.7577124067912324, 0.23897518027914125), mae=(2.7577124067912324, 0.23897518027914125), auc_rmse=(2.7577124067912324, 0.23897518027914125), auc_mae=(2.7577124067912324, 0.23897518027914125))\n",
      "Results(datetime='2018-02-28 21:13:09.894312', dataset='energy', model='BayesianLinearRegression', shape=(768, 8), normal_nll=(2.5686017501740412, 0.3676407722168153), rmse=(2.5686017501740412, 0.3676407722168153), mae=(2.5686017501740412, 0.3676407722168153), auc_rmse=(2.5686017501740412, 0.3676407722168153), auc_mae=(2.5686017501740412, 0.3676407722168153))\n",
      "Results(datetime='2018-02-28 21:13:14.131694', dataset='energy', model='GBTQuantile', shape=(768, 8), normal_nll=(0.501026301233274, 0.16264769556242506), rmse=(0.5193599392074798, 0.1629209813837175), mae=(0.5043760258441308, 0.1613490914072052), auc_rmse=(0.5134395218217118, 0.1609757636866854), auc_mae=(0.5302182444933167, 0.15818544689314706))\n",
      "Results(datetime='2018-02-28 21:13:15.336557', dataset='energy', model='XGBaseline', shape=(768, 8), normal_nll=(0.4554194384685831, 0.045993165121815505), rmse=(0.4554194384685831, 0.045993165121815505), mae=(0.4554194384685831, 0.045993165121815505), auc_rmse=(0.4554194384685831, 0.045993165121815505), auc_mae=(0.4554194384685831, 0.045993165121815505))\n",
      "Results(datetime='2018-02-28 21:13:16.824668', dataset='energy', model='XGBLogLikelihood', shape=(768, 8), normal_nll=(0.5156590690652648, 0.1367059582961725), rmse=(0.5156590690652648, 0.1367059582961725), mae=(0.5156590690652648, 0.1367059582961725), auc_rmse=(0.5156590690652648, 0.1367059582961725), auc_mae=(0.5156590690652648, 0.1367059582961725))\n",
      "Results(datetime='2018-02-28 21:17:41.883609', dataset='kin8nm', model='LinearRegression', shape=(8192, 8), normal_nll=(0.13275711494243403, 0.0801192843490515), rmse=(0.13275711494243403, 0.0801192843490515), mae=(0.13275711494243403, 0.0801192843490515), auc_rmse=(0.13275711494243403, 0.0801192843490515), auc_mae=(0.13275711494243403, 0.0801192843490515))\n"
     ]
    },
    {
     "ename": "KeyboardInterrupt",
     "evalue": "",
     "output_type": "error",
     "traceback": [
      "\u001b[0;31m---------------------------------------------------------------------------\u001b[0m",
      "\u001b[0;31mKeyboardInterrupt\u001b[0m                         Traceback (most recent call last)",
      "\u001b[0;32m<ipython-input-86-5b739eb31dc9>\u001b[0m in \u001b[0;36m<module>\u001b[0;34m()\u001b[0m\n\u001b[1;32m     32\u001b[0m                 \u001b[0mmae\u001b[0m\u001b[0;34m(\u001b[0m\u001b[0my\u001b[0m\u001b[0;34m,\u001b[0m \u001b[0mpred_mean\u001b[0m\u001b[0;34m)\u001b[0m\u001b[0;34m,\u001b[0m\u001b[0;34m\u001b[0m\u001b[0m\n\u001b[1;32m     33\u001b[0m                 \u001b[0mauc_rmse\u001b[0m\u001b[0;34m(\u001b[0m\u001b[0my\u001b[0m\u001b[0;34m,\u001b[0m \u001b[0mpred_mean\u001b[0m\u001b[0;34m,\u001b[0m \u001b[0mpred_std\u001b[0m\u001b[0;34m)\u001b[0m\u001b[0;34m,\u001b[0m\u001b[0;34m\u001b[0m\u001b[0m\n\u001b[0;32m---> 34\u001b[0;31m                 auc_mae(y, pred_mean, pred_std)))\n\u001b[0m\u001b[1;32m     35\u001b[0m \u001b[0;34m\u001b[0m\u001b[0m\n\u001b[1;32m     36\u001b[0m         \u001b[0mmetrics_mean\u001b[0m \u001b[0;34m=\u001b[0m \u001b[0mnp\u001b[0m\u001b[0;34m.\u001b[0m\u001b[0mmean\u001b[0m\u001b[0;34m(\u001b[0m\u001b[0mcv_metrics\u001b[0m\u001b[0;34m,\u001b[0m \u001b[0maxis\u001b[0m \u001b[0;34m=\u001b[0m \u001b[0;36m1\u001b[0m\u001b[0;34m)\u001b[0m\u001b[0;34m\u001b[0m\u001b[0m\n",
      "\u001b[0;32m~/bayesian_uncertainty/metrics.py\u001b[0m in \u001b[0;36mauc_mae\u001b[0;34m(actual, pred, std)\u001b[0m\n\u001b[1;32m     33\u001b[0m     \u001b[0mdata\u001b[0m \u001b[0;34m=\u001b[0m \u001b[0msorted\u001b[0m\u001b[0;34m(\u001b[0m\u001b[0mzip\u001b[0m\u001b[0;34m(\u001b[0m\u001b[0mstd\u001b[0m\u001b[0;34m,\u001b[0m \u001b[0merror\u001b[0m\u001b[0;34m)\u001b[0m\u001b[0;34m,\u001b[0m \u001b[0mreverse\u001b[0m\u001b[0;34m=\u001b[0m\u001b[0;32mTrue\u001b[0m\u001b[0;34m)\u001b[0m\u001b[0;34m\u001b[0m\u001b[0m\n\u001b[1;32m     34\u001b[0m     \u001b[0;32mfor\u001b[0m \u001b[0mi\u001b[0m \u001b[0;32min\u001b[0m \u001b[0mrange\u001b[0m\u001b[0;34m(\u001b[0m\u001b[0mlen\u001b[0m\u001b[0;34m(\u001b[0m\u001b[0mdata\u001b[0m\u001b[0;34m)\u001b[0m\u001b[0;34m)\u001b[0m\u001b[0;34m:\u001b[0m\u001b[0;34m\u001b[0m\u001b[0m\n\u001b[0;32m---> 35\u001b[0;31m         \u001b[0m_\u001b[0m\u001b[0;34m,\u001b[0m \u001b[0merr\u001b[0m \u001b[0;34m=\u001b[0m \u001b[0mzip\u001b[0m\u001b[0;34m(\u001b[0m\u001b[0;34m*\u001b[0m\u001b[0mdata\u001b[0m\u001b[0;34m[\u001b[0m\u001b[0mi\u001b[0m\u001b[0;34m:\u001b[0m\u001b[0;34m]\u001b[0m\u001b[0;34m)\u001b[0m\u001b[0;34m\u001b[0m\u001b[0m\n\u001b[0m\u001b[1;32m     36\u001b[0m         \u001b[0mmaes\u001b[0m\u001b[0;34m.\u001b[0m\u001b[0mappend\u001b[0m\u001b[0;34m(\u001b[0m\u001b[0mnp\u001b[0m\u001b[0;34m.\u001b[0m\u001b[0mabs\u001b[0m\u001b[0;34m(\u001b[0m\u001b[0merr\u001b[0m\u001b[0;34m)\u001b[0m\u001b[0;34m.\u001b[0m\u001b[0mmean\u001b[0m\u001b[0;34m(\u001b[0m\u001b[0;34m)\u001b[0m\u001b[0;34m)\u001b[0m\u001b[0;34m\u001b[0m\u001b[0m\n\u001b[1;32m     37\u001b[0m     \u001b[0;32mreturn\u001b[0m \u001b[0mnp\u001b[0m\u001b[0;34m.\u001b[0m\u001b[0mmean\u001b[0m\u001b[0;34m(\u001b[0m\u001b[0mmaes\u001b[0m\u001b[0;34m)\u001b[0m\u001b[0;34m\u001b[0m\u001b[0m\n",
      "\u001b[0;31mKeyboardInterrupt\u001b[0m: "
     ]
    }
   ],
   "source": [
    "results = []\n",
    "\n",
    "Results = namedtuple('Results', 'datetime dataset model shape normal_nll rmse mae auc_rmse auc_mae')\n",
    "\n",
    "for d, (X,y) in datasets.items():\n",
    "    try:\n",
    "        X = X.values\n",
    "        y = y.values\n",
    "    except AttributeError:\n",
    "        pass\n",
    "    \n",
    "    if d == 'year':\n",
    "        cv = ShuffleSplit(1, test_size=0.1)\n",
    "    elif d == 'protein':\n",
    "        cv = KFold(n_splits=3)\n",
    "    elif d.startswith('make'):\n",
    "        cv = KFold(n_splits=2)\n",
    "    else:\n",
    "        cv = RepeatedKFold(n_splits=5, n_repeats=1)\n",
    "    \n",
    "    for m in models:\n",
    "        reg = m()\n",
    "        cv_metrics = []\n",
    "        for train_index, test_index in cv.split(X):\n",
    "            X_train, X_test = X[train_index], X[test_index]\n",
    "            y_train, y_test = y[train_index], y[test_index]\n",
    "            reg.fit(X, y)\n",
    "            pred_mean, pred_std = reg.predict(X)\n",
    "            cv_metrics.append((\n",
    "                normal_nll(y, pred_mean, pred_std),\n",
    "                rmse(y, pred_mean),\n",
    "                mae(y, pred_mean),\n",
    "                auc_rmse(y, pred_mean, pred_std),\n",
    "                auc_mae(y, pred_mean, pred_std)))\n",
    "\n",
    "        metrics_mean = np.mean(cv_metrics, axis = 1)\n",
    "        metrics_stderr = scipy.stats.sem(cv_metrics, axis = 1)\n",
    "        \n",
    "        r = Results(\n",
    "                str(datetime.now()),\n",
    "                d, \n",
    "                m.__name__,\n",
    "                X.shape,\n",
    "                *zip(metrics_mean, metrics_stderr)\n",
    "            )\n",
    "        results.append(r)\n",
    "        print(r)"
   ]
  },
  {
   "cell_type": "code",
   "execution_count": null,
   "metadata": {},
   "outputs": [],
   "source": [
    "def eval_dataset_model(d, X, y):\n",
    "    try:\n",
    "        X = X.values\n",
    "        y = y.values\n",
    "    except AttributeError:\n",
    "        pass\n",
    "    \n",
    "    if d == 'year':\n",
    "        cv = ShuffleSplit(1, test_size=0.1)\n",
    "    elif d == 'protein':\n",
    "        cv = KFold(n_splits=3)\n",
    "    elif d.startswith('make'):\n",
    "        cv = KFold(n_splits=2)\n",
    "    else:\n",
    "        cv = RepeatedKFold(n_splits=5, n_repeats=1)\n",
    "    \n",
    "    for m in models:\n",
    "        reg = m()\n",
    "        cv_metrics = []\n",
    "        for train_index, test_index in cv.split(X):\n",
    "            X_train, X_test = X[train_index], X[test_index]\n",
    "            y_train, y_test = y[train_index], y[test_index]\n",
    "            reg.fit(X, y)\n",
    "            pred_mean, pred_std = reg.predict(X)\n",
    "            cv_metrics.append((\n",
    "                normal_nll(y, pred_mean, pred_std),\n",
    "                rmse(y, pred_mean),\n",
    "                mae(y, pred_mean),\n",
    "                auc_rmse(y, pred_mean, pred_std),\n",
    "                auc_mae(y, pred_mean, pred_std)))\n",
    "\n",
    "        metrics_mean = np.mean(cv_metrics, axis = 1)\n",
    "        metrics_stderr = scipy.stats.sem(cv_metrics, axis = 1)\n",
    "        \n",
    "        return Results(\n",
    "                str(datetime.now()),\n",
    "                d, \n",
    "                m.__name__,\n",
    "                X.shape,\n",
    "                *zip(metrics_mean, metrics_stderr)\n",
    "            )\n",
    "\n",
    "Parallel(n_jobs=16)(delayed(eval_dataset_model)(d, X, y) for d, (X, y) in datasets.items())"
   ]
  },
  {
   "cell_type": "code",
   "execution_count": null,
   "metadata": {},
   "outputs": [],
   "source": []
  }
 ],
 "metadata": {
  "kernelspec": {
   "display_name": "Python 3",
   "language": "python",
   "name": "python3"
  },
  "language_info": {
   "codemirror_mode": {
    "name": "ipython",
    "version": 3
   },
   "file_extension": ".py",
   "mimetype": "text/x-python",
   "name": "python",
   "nbconvert_exporter": "python",
   "pygments_lexer": "ipython3",
   "version": "3.6.0"
  }
 },
 "nbformat": 4,
 "nbformat_minor": 2
}
