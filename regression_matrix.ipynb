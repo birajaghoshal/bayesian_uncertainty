{
 "cells": [
  {
   "cell_type": "code",
   "execution_count": 1,
   "metadata": {},
   "outputs": [],
   "source": [
    "%load_ext autoreload\n",
    "%matplotlib inline"
   ]
  },
  {
   "cell_type": "code",
   "execution_count": 28,
   "metadata": {},
   "outputs": [],
   "source": [
    "from sklearn.model_selection import cross_val_predict, ShuffleSplit, KFold, RepeatedKFold"
   ]
  },
  {
   "cell_type": "code",
   "execution_count": 23,
   "metadata": {},
   "outputs": [],
   "source": [
    "%autoreload 2\n",
    "from datasets import make_datasets"
   ]
  },
  {
   "cell_type": "code",
   "execution_count": 24,
   "metadata": {},
   "outputs": [],
   "source": [
    "datasets = make_datasets()"
   ]
  },
  {
   "cell_type": "code",
   "execution_count": 16,
   "metadata": {},
   "outputs": [],
   "source": [
    "%autoreload 2\n",
    "from metrics import normal_nll, rmse, mae, auc_rmse, auc_mae"
   ]
  },
  {
   "cell_type": "code",
   "execution_count": null,
   "metadata": {},
   "outputs": [],
   "source": [
    "%autoreload 2\n",
    "from shallow_models import LinearRegression, BayesianLinearRegression, GBTQuantile, XGBaseline, XGBLogLikelihood\n",
    "models = LinearRegression, BayesianLinearRegression, GBTQuantile, XGBaseline, XGBLogLikelihood"
   ]
  },
  {
   "cell_type": "code",
   "execution_count": null,
   "metadata": {},
   "outputs": [
    {
     "name": "stdout",
     "output_type": "stream",
     "text": [
      "Results(dataset='boston', model='type', shape=(506, 13), normal_nll=2.96213114625243, rmse=4.679506300635516, mae=3.272944637996936, auc_rmse=4.506588688366445, auc_mae=3.9287349258629796)\n",
      "Results(dataset='boston', model='type', shape=(506, 13), normal_nll=3.0617501684814825, rmse=4.764112951314464, mae=3.319204466868282, auc_rmse=5.207513332432892, auc_mae=3.586023623364604)\n",
      "Results(dataset='boston', model='type', shape=(506, 13), normal_nll=2.5514602388358814, rmse=2.8478705778310087, mae=1.4400138963886413, auc_rmse=1.4944086690039522, auc_mae=0.9160432296240739)\n",
      "Results(dataset='boston', model='type', shape=(506, 13), normal_nll=1.833344382336918, rmse=1.5134712432474189, mae=1.1707054096719494, auc_rmse=1.7435924282794146, auc_mae=1.5128116537331093)\n",
      "Results(dataset='boston', model='type', shape=(506, 13), normal_nll=1.8738467966956123, rmse=1.5134712432474189, mae=1.1707054096719494, auc_rmse=1.1445712778921473, auc_mae=0.9594783307919768)\n",
      "Results(dataset='concrete', model='type', shape=(1030, 8), normal_nll=3.756273765914948, rmse=10.353609808895648, mae=8.214343706221813, auc_rmse=12.670127577963232, auc_mae=10.959921770889945)\n",
      "Results(dataset='concrete', model='type', shape=(1030, 8), normal_nll=4.283453080359056, rmse=10.358865444203607, mae=8.21424004275541, auc_rmse=10.303396720932744, auc_mae=8.188732943968395)\n",
      "Results(dataset='concrete', model='type', shape=(1030, 8), normal_nll=3.216691796682223, rmse=4.523251749305248, mae=3.032875676275944, auc_rmse=2.9289489743749106, auc_mae=2.0277122282769207)\n",
      "Results(dataset='concrete', model='type', shape=(1030, 8), normal_nll=2.8071356667449807, rmse=4.007618335362335, mae=2.977166322902568, auc_rmse=4.795167827046262, auc_mae=3.9915136255531958)\n",
      "Results(dataset='concrete', model='type', shape=(1030, 8), normal_nll=3.012114583498151, rmse=4.007618335362335, mae=2.977166322902568, auc_rmse=3.179465472385748, auc_mae=2.468647831453677)\n",
      "Results(dataset='energy', model='type', shape=(768, 8), normal_nll=2.4859556592703806, rmse=2.906696247412608, mae=2.0508704427370765, auc_rmse=3.490622688842793, auc_mae=2.854416995693304)\n",
      "Results(dataset='energy', model='type', shape=(768, 8), normal_nll=3.795552929306364, rmse=2.9215442085623997, mae=2.070793520830534, auc_rmse=2.3739329224957655, auc_mae=1.6811851696751432)\n",
      "Results(dataset='energy', model='type', shape=(768, 8), normal_nll=1.0753495541113385, rmse=0.5178404247192485, mae=0.3309863064051523, auc_rmse=0.28450961365151745, auc_mae=0.18373123213712014)\n",
      "Results(dataset='energy', model='type', shape=(768, 8), normal_nll=0.5719735139647616, rmse=0.42871409851930686, mae=0.30779744312167173, auc_rmse=0.5319939535057651, auc_mae=0.4366181832314105)\n",
      "Results(dataset='energy', model='type', shape=(768, 8), normal_nll=1.0534578365140312, rmse=0.42871409851930686, mae=0.30779744312167173, auc_rmse=0.44028448284141114, auc_mae=0.3480414843299037)\n"
     ]
    }
   ],
   "source": [
    "results = []\n",
    "\n",
    "Results = namedtuple('Results', 'dataset model shape normal_nll rmse mae auc_rmse auc_mae')\n",
    "\n",
    "for d, (X,y) in datasets.items():\n",
    "    if d == 'year':\n",
    "        cv = ShuffleSplit(1, test_size=0.1)\n",
    "    elif d == 'protein':\n",
    "        cv = KFold(n_splits=10)\n",
    "    elif d.startswith('make'):\n",
    "        cv = KFold(n_splits=2)\n",
    "    else:\n",
    "        cv = RepeatedKFold(n_splits=10, n_repeats=1)\n",
    "    \n",
    "    for m in models:\n",
    "        #pred_mean, pred_std = cross_val_predict(m, X, y, cv=cv)\n",
    "        reg = m()\n",
    "        reg.fit(X, y)\n",
    "        pred_mean, pred_std = reg.predict(X)\n",
    "        r = Results(\n",
    "                d, \n",
    "                type(m).__name__,\n",
    "                X.shape,\n",
    "                normal_nll(y, pred_mean, pred_std),\n",
    "                rmse(y, pred_mean),\n",
    "                mae(y, pred_mean),\n",
    "                auc_rmse(y, pred_mean, pred_std),\n",
    "                auc_mae(y, pred_mean, pred_std)\n",
    "            )\n",
    "        print(r)\n",
    "        results.append(r)"
   ]
  },
  {
   "cell_type": "code",
   "execution_count": null,
   "metadata": {},
   "outputs": [],
   "source": []
  }
 ],
 "metadata": {
  "kernelspec": {
   "display_name": "Python 3",
   "language": "python",
   "name": "python3"
  },
  "language_info": {
   "codemirror_mode": {
    "name": "ipython",
    "version": 3
   },
   "file_extension": ".py",
   "mimetype": "text/x-python",
   "name": "python",
   "nbconvert_exporter": "python",
   "pygments_lexer": "ipython3",
   "version": "3.6.0"
  }
 },
 "nbformat": 4,
 "nbformat_minor": 2
}
